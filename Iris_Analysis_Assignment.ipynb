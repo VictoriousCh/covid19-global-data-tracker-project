{
 "cells": [
  {
   "cell_type": "markdown",
   "id": "b97aa684",
   "metadata": {},
   "source": [
    "# 📊 Analyzing Data with Pandas and Visualizing Results with Matplotlib\n",
    "\n",
    "**Objective:**\n",
    "- Load and analyze a dataset using the pandas library in Python.\n",
    "- Create simple plots and charts with the matplotlib and seaborn libraries for visualizing the data.\n"
   ]
  },
  {
   "cell_type": "code",
   "execution_count": null,
   "id": "af0a7ff2",
   "metadata": {},
   "outputs": [],
   "source": [
    "import pandas as pd\n",
    "import matplotlib.pyplot as plt\n",
    "import seaborn as sns\n",
    "from sklearn.datasets import load_iris\n",
    "\n",
    "# Handle potential errors when loading the dataset\n",
    "try:\n",
    "    iris = load_iris(as_frame=True)\n",
    "    df = iris.frame\n",
    "    print(\"Dataset loaded successfully.\")\n",
    "except Exception as e:\n",
    "    print(f\"Error loading dataset: {e}\")\n"
   ]
  },
  {
   "cell_type": "markdown",
   "id": "55e1a0c9",
   "metadata": {},
   "source": [
    "## 🔍 Task 1: Load and Explore the Dataset"
   ]
  },
  {
   "cell_type": "code",
   "execution_count": null,
   "id": "810e417c",
   "metadata": {},
   "outputs": [],
   "source": [
    "# Display first few rows\n",
    "df.head()\n"
   ]
  },
  {
   "cell_type": "code",
   "execution_count": null,
   "id": "1a3810d6",
   "metadata": {},
   "outputs": [],
   "source": [
    "# Check data types and info\n",
    "df.info()\n"
   ]
  },
  {
   "cell_type": "code",
   "execution_count": null,
   "id": "c45f698b",
   "metadata": {},
   "outputs": [],
   "source": [
    "# Check for missing values\n",
    "df.isnull().sum()\n"
   ]
  },
  {
   "cell_type": "markdown",
   "id": "e7521404",
   "metadata": {},
   "source": [
    "## 📈 Task 2: Basic Data Analysis"
   ]
  },
  {
   "cell_type": "code",
   "execution_count": null,
   "id": "3e232bd9",
   "metadata": {},
   "outputs": [],
   "source": [
    "# Summary statistics\n",
    "df.describe()\n"
   ]
  },
  {
   "cell_type": "code",
   "execution_count": null,
   "id": "fb3c3ebb",
   "metadata": {},
   "outputs": [],
   "source": [
    "# Mean Sepal Length per species\n",
    "df['species'] = df['target'].apply(lambda i: iris.target_names[i])\n",
    "df.groupby('species')['sepal length (cm)'].mean()\n"
   ]
  },
  {
   "cell_type": "markdown",
   "id": "13a0d18d",
   "metadata": {},
   "source": [
    "## 📊 Task 3: Data Visualization"
   ]
  },
  {
   "cell_type": "code",
   "execution_count": null,
   "id": "6ee7927e",
   "metadata": {},
   "outputs": [],
   "source": [
    "plt.figure(figsize=(8, 4))\n",
    "plt.plot(df.index, df['petal length (cm)'], label='Petal Length')\n",
    "plt.title('Petal Length Over Sample Index')\n",
    "plt.xlabel('Sample Index')\n",
    "plt.ylabel('Petal Length (cm)')\n",
    "plt.legend()\n",
    "plt.grid(True)\n",
    "plt.tight_layout()\n",
    "plt.show()\n"
   ]
  },
  {
   "cell_type": "code",
   "execution_count": null,
   "id": "038b3e12",
   "metadata": {},
   "outputs": [],
   "source": [
    "plt.figure(figsize=(8, 5))\n",
    "species_avg = df.groupby('species')['sepal width (cm)'].mean()\n",
    "species_avg.plot(kind='bar', color='skyblue')\n",
    "plt.title('Average Sepal Width per Species')\n",
    "plt.xlabel('Species')\n",
    "plt.ylabel('Average Sepal Width (cm)')\n",
    "plt.tight_layout()\n",
    "plt.show()\n"
   ]
  },
  {
   "cell_type": "code",
   "execution_count": null,
   "id": "a5870268",
   "metadata": {},
   "outputs": [],
   "source": [
    "plt.figure(figsize=(8, 4))\n",
    "plt.hist(df['petal width (cm)'], bins=15, color='coral', edgecolor='black')\n",
    "plt.title('Distribution of Petal Width')\n",
    "plt.xlabel('Petal Width (cm)')\n",
    "plt.ylabel('Frequency')\n",
    "plt.tight_layout()\n",
    "plt.show()\n"
   ]
  },
  {
   "cell_type": "code",
   "execution_count": null,
   "id": "0d585aeb",
   "metadata": {},
   "outputs": [],
   "source": [
    "plt.figure(figsize=(8, 6))\n",
    "sns.scatterplot(data=df, x='sepal length (cm)', y='petal length (cm)', hue='species')\n",
    "plt.title('Sepal Length vs Petal Length by Species')\n",
    "plt.xlabel('Sepal Length (cm)')\n",
    "plt.ylabel('Petal Length (cm)')\n",
    "plt.legend(title='Species')\n",
    "plt.tight_layout()\n",
    "plt.show()\n"
   ]
  },
  {
   "cell_type": "markdown",
   "id": "5cff5e11",
   "metadata": {},
   "source": [
    "## 🧠 Observations\n",
    "\n",
    "- Setosa has shorter petals and sepals compared to other species.\n",
    "- Versicolor and Virginica overlap slightly but are distinguishable by petal length.\n",
    "- Petal width has a clear distribution pattern among species.\n",
    "- Sepal length and petal length show a positive correlation.\n"
   ]
  }
 ],
 "metadata": {},
 "nbformat": 4,
 "nbformat_minor": 5
}
